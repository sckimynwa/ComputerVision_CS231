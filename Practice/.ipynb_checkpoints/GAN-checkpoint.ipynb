{
 "cells": [
  {
   "cell_type": "code",
   "execution_count": null,
   "metadata": {},
   "outputs": [],
   "source": [
    "# Code<1> Get library & Data\n",
    "import torch\n",
    "import torch.nn as nn\n",
    "from torch.optim import Adam\n",
    "from torchvision import datasets, transforms\n",
    "from torch.utils.data import DataLoader\n",
    "from torch.autograd import Variable\n",
    "\n",
    "# 데이터 전처리 방식 지정\n",
    "transform = transforms.Compose([\n",
    "    transforms.ToTensor(), # Data to pytorch tensor format\n",
    "    transforms.Normalize(mean=(0.5, ), std=(0.5, ))\n",
    "])\n",
    "\n",
    "# Get Mnist Datasets\n",
    "mnist = datasets.MNIST(root='data', download=Ture, transform=transform)\n",
    "\n",
    "# Get data sizeof batch_size\n",
    "dataloader = DataLoader(mnist, batch_size=60, shuffle=True)"
   ]
  }
 ],
 "metadata": {
  "kernelspec": {
   "display_name": "Python 3",
   "language": "python",
   "name": "python3"
  },
  "language_info": {
   "codemirror_mode": {
    "name": "ipython",
    "version": 3
   },
   "file_extension": ".py",
   "mimetype": "text/x-python",
   "name": "python",
   "nbconvert_exporter": "python",
   "pygments_lexer": "ipython3",
   "version": "3.8.1"
  }
 },
 "nbformat": 4,
 "nbformat_minor": 4
}
